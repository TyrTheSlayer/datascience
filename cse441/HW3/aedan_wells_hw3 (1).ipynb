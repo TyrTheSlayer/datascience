{
  "nbformat": 4,
  "nbformat_minor": 0,
  "metadata": {
    "colab": {
      "provenance": []
    },
    "kernelspec": {
      "name": "python3",
      "display_name": "Python 3"
    },
    "language_info": {
      "name": "python"
    }
  },
  "cells": [
    {
      "cell_type": "markdown",
      "source": [
        "##Datascience Homework 3##\n",
        "Author: Aedan Wells\n",
        "\n",
        "Date: 10/13/22\n",
        "\n",
        "Brief: \n",
        "\n",
        "This entry completes all portions asked:\n",
        "\n",
        "\n",
        "* Completes the functions get_market_cap and get_digit_patterns, both returning lists of dictionaries for the data asked\n",
        "* Completes text queries/parsing using re library, raw strings and in re.VERBOSE mode.\n",
        "* No hard queries (if string1 in string2, etc) are ran\n",
        "\n",
        "Notes:\n",
        "* I chose not to split this up into more functions. There are some elements that could be removed for ease of viewing, however, there are no elements that are repeated many times in these functions. \n",
        "* Secondly, It was difficult for me to nail down what a slice was to make sure the values were correct. I am using the python definition of a slice (string.start():string.end()) which in our case is always the start of the first ddx and the start of the second ddx+3. \n"
      ],
      "metadata": {
        "id": "uAy9A7L-DyKI"
      }
    },
    {
      "cell_type": "code",
      "execution_count": null,
      "metadata": {
        "id": "XKFx-HAoDqo2"
      },
      "outputs": [],
      "source": [
        "import re"
      ]
    },
    {
      "cell_type": "code",
      "source": [
        "#Reads in a file name and breaks the text into a full dictionary\n",
        "#param filename is the file being parsed for the market cap\n",
        "#return a dictionary with the market cap data\n",
        "def get_market_cap(filename):\n",
        "  f_market = open(filename, 'r')\n",
        "  #read one line in to avoid header\n",
        "  next(f_market)\n",
        "  lines = f_market.readlines()\n",
        "\n",
        "  prev_year = 0\n",
        "  company_list = []\n",
        "  #for each line in the document\n",
        "  for line in lines:\n",
        "    company_dict = {}\n",
        "    #create regex pattern\n",
        "    pattern = r\"\"\"\n",
        "    (^[A-Z]\\w+(?:\\s[A-Z][a-z]*){0,}) #the first word (capitalized) and then 0 or more capitalized words. This will get all company names\n",
        "    .(had|has|reached)               #the company words up to the phrases had, has, or reached.\n",
        "    (.+?(?=\\$))                      #all words after had/has/reached but before the $ of the money\n",
        "    (\\$)                             #the $ and just that\n",
        "    ([0-9]*[.]{0,1}[0-9]*)           #the numbers right after the dollar sign, any number of 0-9 values followed by 0 or 1 period and any numbers after\n",
        "    (\\s\\w+)                          #the word after the numbers which will be the unit of the value\n",
        "    (\\s\\w+)?                         #select the next word after unit IF it exists. looking for words like in, now, today, '', or around\n",
        "    (\\s\\w+)?                         #select the word after time context word IF it exists. Looking for a year number or possibility of 'same time' marker\n",
        "    (.*)?                            #Grabs the rest of the letters that could have things like 'same time'\n",
        "    \"\"\"\n",
        "    #breaks down the string using the pattern above\n",
        "    sentence = re.findall(pattern, line, re.VERBOSE)\n",
        "    #grab company name\n",
        "    company_dict['company'] = sentence[0][0]\n",
        "    #grab valuation of the company\n",
        "    company_dict['value'] = float(sentence[0][4])\n",
        "    #grabs the unit for the valuation\n",
        "    company_dict['unit'] = sentence[0][5][1:]\n",
        "    #break down the time/year value\n",
        "    #in has year right after\n",
        "    if sentence[0][6] == ' in':\n",
        "      company_dict['year'] = int(sentence[0][7][1:])\n",
        "    #if word after unit is now, today, or empty, it is set in 2022\n",
        "    elif sentence[0][6] == ' now' or sentence[0][6] == ' today' or sentence[0][6] == '':\n",
        "      company_dict['year'] = 2022\n",
        "    elif sentence[0][6] == ' around':\n",
        "      #if word after around is year, put that in. else, check to see if it is a reference to same time\n",
        "      if sentence[0][7][1:].isnumeric():\n",
        "        company_dict['year'] = int(sentence[0][7][1:])\n",
        "      else:\n",
        "        if re.search(r\"same\\stime\", sentence[0][8], re.VERBOSE):\n",
        "          company_dict['year'] = prev_year\n",
        "    #check if reference to same time is in the sentence and work with that\n",
        "    elif re.search(r\"same\\stime\", line, re.VERBOSE):\n",
        "      company_dict['year'] = prev_year\n",
        "    #add the company to the list, set the previous sentence year to this year.\n",
        "    company_list.append(company_dict)\n",
        "    prev_year = company_dict['year']\n",
        "  return company_list"
      ],
      "metadata": {
        "id": "53Z6gNqPFIUG"
      },
      "execution_count": null,
      "outputs": []
    },
    {
      "cell_type": "code",
      "source": [
        "#takes in a file with a long string od numbers and returns a dictioanry with many subsequences\n",
        "#and it's locations in the page\n",
        "#param filename is the file of a long sequence of digits\n",
        "#returns a dictionary with each d and x combo that has substrings in the form ddx...ddx\n",
        "def get_digit_patterns(filename):\n",
        "  pi_file = open(filename, 'r')\n",
        "  pi_digits = pi_file.read()\n",
        "  substrings = []\n",
        "  #go through all possible ddx digits\n",
        "  for d in range(0, 10):\n",
        "    for x in range(0, 10):\n",
        "      #set some counters and holders\n",
        "      last_iter_loc = 0\n",
        "      last_iter_counter = 0\n",
        "      #pattern group is the ddx number, nothing more\n",
        "      number = r\"(\"+ str(d) + str(d) + str(x) + \")\"\n",
        "      #for each instance of the number\n",
        "      for item in re.finditer(number, pi_digits, re.M & re.VERBOSE):\n",
        "        #increase the counter by 1\n",
        "        last_iter_counter += 1\n",
        "        #hold the last iter temporarily and grab the index\n",
        "        tmp_iter_loc = last_iter_loc\n",
        "        last_iter_loc = item.start()\n",
        "        #if we have seen this number more than once\n",
        "        if last_iter_counter == 2:\n",
        "          #preserves getting no duplicates, if there are 3 ddx's in the list at index 1, 50, 100 it will only grab the slice 1:50 and give that info\n",
        "          last_iter_counter = 0\n",
        "          #print the value with locations/length and add the value to the dictionary\n",
        "          print(\"found \" + number[1:-1] + \" in slice \" + str(tmp_iter_loc) +\":\"+ str(last_iter_loc + 3) +\" of length \" + str(last_iter_loc - tmp_iter_loc + 3))\n",
        "          instance_dict = {}\n",
        "          instance_dict['d'] = d\n",
        "          instance_dict['x'] = x\n",
        "          instance_dict['start'] = tmp_iter_loc\n",
        "          instance_dict['end'] = last_iter_loc + 3\n",
        "          instance_dict['length'] = last_iter_loc - tmp_iter_loc + 3\n",
        "          substrings.append(instance_dict)\n",
        "  return substrings"
      ],
      "metadata": {
        "id": "54PsajA0FOS8"
      },
      "execution_count": null,
      "outputs": []
    },
    {
      "cell_type": "code",
      "source": [
        "CMP_DICT = get_market_cap('market-cap-history.txt')\n",
        "DGT_DICT = get_digit_patterns('digits_of_pi.txt')"
      ],
      "metadata": {
        "id": "fHXthPcfFVaQ",
        "colab": {
          "base_uri": "https://localhost:8080/"
        },
        "outputId": "c8ce6474-ce98-4d4f-f8e8-8b99bd50072a"
      },
      "execution_count": null,
      "outputs": [
        {
          "output_type": "stream",
          "name": "stdout",
          "text": [
            "found 000 in slice 612:874 of length 262\n",
            "found 001 in slice 366:994 of length 628\n",
            "found 111 in slice 155:1004 of length 849\n",
            "found 113 in slice 368:775 of length 407\n",
            "found 117 in slice 94:159 of length 65\n",
            "found 117 in slice 434:447 of length 13\n",
            "found 118 in slice 452:864 of length 412\n",
            "found 119 in slice 502:1005 of length 503\n",
            "found 223 in slice 136:842 of length 706\n",
            "found 224 in slice 544:676 of length 132\n",
            "found 227 in slice 492:702 of length 210\n",
            "found 330 in slice 370:411 of length 41\n",
            "found 334 in slice 218:849 of length 631\n",
            "found 336 in slice 512:519 of length 7\n",
            "found 440 in slice 520:670 of length 150\n",
            "found 445 in slice 59:822 of length 763\n",
            "found 446 in slice 126:187 of length 61\n",
            "found 446 in slice 220:464 of length 244\n",
            "found 661 in slice 987:1002 of length 15\n",
            "found 664 in slice 118:283 of length 165\n",
            "found 665 in slice 214:386 of length 172\n",
            "found 669 in slice 261:605 of length 344\n",
            "found 771 in slice 636:758 of length 122\n",
            "found 778 in slice 632:647 of length 15\n",
            "found 778 in slice 965:975 of length 10\n",
            "found 881 in slice 207:325 of length 118\n",
            "found 881 in slice 327:866 of length 539\n",
            "found 882 in slice 378:951 of length 573\n",
            "found 995 in slice 718:794 of length 76\n",
            "found 996 in slice 467:763 of length 296\n",
            "found 998 in slice 79:783 of length 704\n",
            "found 999 in slice 776:782 of length 6\n"
          ]
        }
      ]
    }
  ]
}