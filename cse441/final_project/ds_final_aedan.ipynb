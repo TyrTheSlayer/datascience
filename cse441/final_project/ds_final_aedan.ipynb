{
  "nbformat": 4,
  "nbformat_minor": 0,
  "metadata": {
    "colab": {
      "provenance": []
    },
    "kernelspec": {
      "name": "python3",
      "display_name": "Python 3"
    },
    "language_info": {
      "name": "python"
    }
  },
  "cells": [
    {
      "cell_type": "markdown",
      "source": [
        "##Data Science Final Project##\n",
        "Author: Aedan Wells\n",
        "\n",
        "Date: 12/6/2022\n",
        "\n",
        "Class: CSE 411\n",
        "\n",
        "### **Brief:** <br>\n",
        "Sports statistics and analysis is a growing and important element in the professional sports industry. In the past, a player may look good but not deliver with no direct way to explain it. The ability to read statistics and derive analysis can help players improve and managers create the best team.<br><br>\n",
        "In this project, I will utilize data collected by Open Source Sports [1] to demonstrate the possibilities of visualization and analysis of National Hockey League (NHL) player data from 1909 to 2011. As well, to fill in the recent data gap, data collected from Moneypuck.com will be added from the 2012 to 2021 season. Moneypuck does not contain the awards from the 2012 to 2021 season, therefore I will have to collect this from wikipedia and the NHL website and add it to the current awards CSV. \n",
        "<br><br>\n",
        "The dataset contains a plethora of information in terms of scoring, playoff success, and coach success. However, the analysis will center around specific awards success. Hopefully, by the end of this project, we will see if underlying statistics and features can suggest who will win a particular award.\n",
        "This will include the awards:\n",
        "\n",
        "*   The Vezina Trophy for exceptional goaltender\n",
        "*   The Norris Trophy for outstanding defenseman\n",
        "*   The Lady Byng Trophy for most gentlemanly player\n",
        "*   The Ted Lindsay Trophy for most exceptional player\n",
        "*   The Selke Trophy for most defensive forward\n",
        "\n",
        "This analysis will not include the Art Ross or Rocket richard trophy as those correlate exactly to who earned the most points and awards respectively. As well, the Masterton trophy will not be considered as that is earned by an individual who has \"the qualities of perseverance, sportsmanship, and dedication to hockey\" and is often given to someone who has overcame hard injury or sickness. <br>\n",
        "\n",
        "### **Notes:**\n",
        "\n",
        "*   It is recommended that when using this notebook to run each cell sequentially or all at the same time. If you run it out of order there could be issues with the observations matching the visualizations. Especially in the data sensitivity section, once the datasets are changed, all previous cells will not make sense if ran afterwards.\n",
        "*   It seems that the provided Goalies.csv has an additional row that has created parsing errors. The file goalies_2.csv was created by just removing the additional row.\n",
        "*   The dataset includes players that played exclusively in the former World Hockey Association (WHA) or the National Hockey Association (NHA) or played part time in those and later played in the NHL. Though, these teams become what we know as the NHL, I will not be including these in the full analysis due to differing rules, schedules, and other finer details.\n",
        "*  The 2012 to 2022 data comes from moneypuck.com [2] and each CSV are combined into large 'goalie22' and 'skater22' using the clean_combine_moneypuck_data() function. I am turning in the above files only to reduce submission size\n",
        "*  Colors for my graphs were selected with colorblindness in mind. I used the link at bibliography section [7] for guidance in contrasting color choices and [8] to generate colorblind friendly palletes\n",
        "*  I attempted to have all of my graphing functions that are called multiple times to be in their own functions for ease of use. However, for the feature superiority bar charts, the bar labels could not be applied without being called on their own.\n",
        "\n",
        "### **Table of Contents:**\n",
        "*  Introduction\n",
        "*  Acronym Glossary\n",
        "*  Moneypuck Data Combining and Formatting\n",
        "*  Dataset Cleaning\n",
        "*  Initial Dataset Viewing\n",
        "*  Helper Functions\n",
        "*  Awards Analysis\n",
        "  *  All Awards\n",
        "  *  Vezina Trophy\n",
        "  *  Norris Trophy\n",
        "  *  Selke Trophy\n",
        "  *  Ted Lindsay Trophy\n",
        "  *  Lady Byng Trophy\n",
        "* Data Sensitivity from 2012-2021 Data\n",
        "* Conclusion\n",
        "\n",
        "\n",
        "\n",
        "\n",
        "\n",
        "### **Resources/Bibliography:** \n",
        "[1] Open Source Sports, \"Professional Hockey Database\". *Open Source Sports* [Online]. Available: https://www.kaggle.com/datasets/open-source-sports/professional-hockey-database [Accessed Oct. 23, 2022].\n",
        "\n",
        "The information used herein was obtained free of charge from and is\n",
        "copyrighted by the Hockey Databank project. For more information about the\n",
        "Hockey Databank project please visit\n",
        "http://sports.groups.yahoo.com/group/hockey-databank<br>\n",
        "\n",
        "[2] Money Puck, \"Download Player and Team Data\". *Money Puck* [Online]. Available: https://moneypuck.com/data.htm. [Accessed Oct. 28, 2022].<br>\n",
        "\n",
        "[3] National Hockey League, \"NHL Trophies\". *National Hockey League* [Online]. Available: https://www.nhl.com/info/nhl-awards-trophies. [Accessed Oct. 29, 2022]<br>\n",
        "[4] Wikipedia, \"NHL All-Star team\". *Wikipedia* [Online]. Available: https://en.wikipedia.org/wiki/NHL_All-Star_team. [Accessed Oct. 29, 2022]<br>\n",
        "[5] Ice Hockey, \"What is the Average Save Percentage in the NHL?\". *Gaimday* [Online]. Available: https://www.gaimday.com/blog/save-percentage/. [Accessed Nov. 20, 2022]<br>\n",
        "[6] Matplotlib, \"Grouped bar chart with labels\". *Matplotlib* [Online]. Available: https://matplotlib.org/3.1.1/gallery/lines_bars_and_markers/barchart.html#grouped-bar-chart-with-labels. [Accessed Nov. 25, 2022]<br>\n",
        "[7] David Nichols, \"Coloring for Colorblindness\". *David Math Logic* [Online]. Available: https://davidmathlogic.com/colorblind/#%23D81B60-%231E88E5-%23FFC107-%23004D40. [Accessed Nov. 25, 2022]<br>\n",
        "[8] Venngage, \"Accessible color palette generator\". *Venngage* [Online]. Available: https://venngage.com/tools/accessible-color-palette-generator. [Accessed Nov. 25, 2022]<br>\n",
        "[9] Wikipedia, \"Template:NHL team abbreviations\". *Wikipedia* [Online] Available: https://en.wikipedia.org/wiki/Template:NHL_team_abbreviations. [Accessed Dec. 2, 2022]<br>\n",
        "[10] National Hockey League, \"NHL Lady Byng Memorial Trophy Winners\". *National Hockey League* [Online]. Available: https://www.nhl.com/news/nhl-lady-byng-memorial-trophy-winners-complete-list/c-287910994?tid=287709666\n"
      ],
      "metadata": {
        "id": "0Gc22ejSUPut"
      }
    },
    {
      "cell_type": "markdown",
      "source": [
        "## **Acronym Glossary:**\n",
        "All data from Open Source Sports hockey dataset [1] has its feature acronyms defined on its page. However, for ease of use, I will put the acronym/feature definitions below:\n",
        "\n",
        "All datasets:\n",
        "* playerID: Condensed name of the player\n",
        "* year: Season for the entry\n",
        "* stint: Order of appearance in a season\n",
        "* tmID: Teams ID that the player played for\n",
        "  * All teams are signified by a 2-3 letter acronym. This list can be found at the wikipedia link from source [9]\n",
        "* lgID: League ID that the player was in\n",
        "* GP: Games Played\n",
        "\n",
        "Goaltender Dataset:\n",
        "* Min: Minutes on the ice\n",
        "* W: Games won\n",
        "* L: Games lost\n",
        "* T/OL: Ties and overtime losses\n",
        "* ENG: Empty net goals against\n",
        "* SHO: Shutouts (games where a goaltender has won without being scored on)\n",
        "* GA: Goals against\n",
        "* SA: Shots against\n",
        "* WP: Win percentage (W/GP)\n",
        "\n",
        "Skaters Datset:\n",
        "* pos: Players' position\n",
        "  * D: Defenseman\n",
        "  * LW: Left winger\n",
        "  * RW: Right winger\n",
        "  * C: Centerman\n",
        "* G: Goals\n",
        "* A: Assists\n",
        "* Pts: Points (goals + assists)\n",
        "* PIM: Penalty minutes\n",
        "* +/-: Plus minus, (goals the team has scored while on the ice - goals scored against while on the ice)\n",
        "* PPG: Power play goals\n",
        "* PPA: Power play assists\n",
        "* SHG: Short handed Goals\n",
        "* SHA: Short handed assists\n",
        "* GWG: Game winning goals\n",
        "* GTG: Game tying goals\n",
        "* SOG: Shots on goal\n",
        " \n"
      ],
      "metadata": {
        "id": "w9a5sbjjsdYo"
      }
    },
    {
      "cell_type": "code",
      "execution_count": null,
      "metadata": {
        "id": "L2TErN3hUH_f"
      },
      "outputs": [],
      "source": [
        "#library imports\n",
        "import numpy as np\n",
        "import pandas as pd\n",
        "import os\n",
        "import matplotlib.pyplot as plt"
      ]
    },
    {
      "cell_type": "code",
      "source": [
        "#set some global arrays for easy use\n",
        "awards_list = [\"Norris\", \"Lady Byng\", \"Selke\",\"Lindsay\", \"Vezina\"]\n",
        "skater_features = [\"GP\", \"G\", \"A\", \"Pts\", \"PIM\"]\n",
        "goalie_good_features= [\"GP\", \"Min\", \"W\", \"SHO\", \"WP\"]"
      ],
      "metadata": {
        "id": "ccCu5n_V2hqb"
      },
      "execution_count": null,
      "outputs": []
    },
    {
      "cell_type": "markdown",
      "source": [
        "### **Moneypuck Data Combining and Formatting**\n",
        "\n",
        "Below are the two functions I used to create my data sensitivty dataset. Moneypuck.com [2] provides csv's of data from the 2012-2021 NHL season, one CSV per season. These functions combine these into a dataset for skaters and goaltenders and then changes them to be in the format of the Hockey Database data. "
      ],
      "metadata": {
        "id": "VZnic8VlgbFQ"
      }
    },
    {
      "cell_type": "code",
      "source": [
        "#combines all of the separate moneypuck csv's into one csv, including all situations\n",
        "#Creates a CSV of these combined csv's to local storage\n",
        "def clean_combine_moneypuck_data():\n",
        "  #read the path where each set of files are\n",
        "  goalie_path = \"raw_21_goalies/\"\n",
        "  skater_path = \"raw_21_skaters/\"\n",
        "  #list all the files from the directory\n",
        "  goalie_file_list = os.listdir(goalie_path)\n",
        "  skater_file_list = os.listdir(skater_path)\n",
        "\n",
        "  df_append = pd.DataFrame()\n",
        "  #get all of the goalie files together\n",
        "  for file in goalie_file_list:\n",
        "      temp_frame = pd.read_csv(goalie_path + \"/\" +file)\n",
        "      #Moneypuck has entries for different situations: normal 5v5 playing, \n",
        "      #when playing with less players due to a penalty, etc. Situation 'all'\n",
        "      #is every situation put together, which is the correct data.\n",
        "      temp_main = pd.DataFrame(temp_frame[temp_frame['situation'] == 'all'])\n",
        "      df_append = df_append.append(temp_main, ignore_index=True)\n",
        "\n",
        "  df_append.to_csv('raw_21_goalies/full_goalies.csv')\n",
        "\n",
        "  frame_append = pd.DataFrame()\n",
        "  #get all of the skater files together\n",
        "  for file in skater_file_list:\n",
        "      temp_frame = pd.read_csv(skater_path + \"/\" +file)\n",
        "      temp_main = pd.DataFrame(temp_frame[temp_frame['situation'] == 'all'])\n",
        "      frame_append = frame_append.append(temp_main, ignore_index=True)\n",
        "\n",
        "  frame_append.to_csv('raw_21_skaters/full_skaters.csv')"
      ],
      "metadata": {
        "id": "8yBACm0DgHNk"
      },
      "execution_count": null,
      "outputs": []
    },
    {
      "cell_type": "code",
      "source": [
        "#converts the moneypuck CSV's to dataframes that match the format of the hockey database dataframes\n",
        "#NOTE, this code takes a long time to run (about 1.5 min)\n",
        "#returns the goalie and skater dataframes\n",
        "def convert_moneypuck():\n",
        "  #read in goalies csv\n",
        "  goalies = pd.read_csv(\"full_goalies.csv\")\n",
        "  #lots of random duplicates in the dataset, this will remove them\n",
        "  goalies = goalies.drop_duplicates()\n",
        "  #create starting dict structure\n",
        "  starting_dict = {'playerID': [''], 'year': [0], 'stint': [0], 'tmID': [''], \n",
        "                   'lgID': [''], 'GP': [0.0], 'Min': [0.0], 'W': [0.0], \n",
        "                   'L': [0.0], 'T/OL': [0.0], 'ENG': [0.0], 'SHO': [0.0], \n",
        "                   'GA': [0.0],'WP': [0.0], \"GP/GA\": [0.0]}\n",
        "  output_goalie = pd.DataFrame(starting_dict)\n",
        "  #for each player in the money puck list, append the stats for each player\n",
        "  for index, row in goalies.iterrows():\n",
        "    if float(row['goals']) == 0:\n",
        "      df = {'playerID': row['name'], 'year': int(row['season']), 'stint': 1, 'tmID': row['team'], 'lgID': 'NHL', \n",
        "                                                'GP': float(row['games_played']), 'Min': float(row['icetime']), 'W': 0.0,'L': 0.0, 'T/OL': 0.0, \n",
        "                                                  'ENG': 0.0, 'SHO': 0.0, 'GA': float(row['goals']), 'WP': 0.0, \"GP/GA\": 0}\n",
        "    else:\n",
        "      df = {'playerID': row['name'], 'year': int(row['season']), 'stint': 1, 'tmID': row['team'], 'lgID': 'NHL', \n",
        "                                                'GP': float(row['games_played']), 'Min': float(row['icetime'])/60, 'W': 0.0,'L': 0.0, 'T/OL': 0.0, \n",
        "                                                  'ENG': 0.0, 'SHO': 0.0, 'GA': float(row['goals']), 'WP': 0.0, \"GP/GA\": (float(row['games_played']) / float(row['goals']))}\n",
        "    output_goalie = output_goalie.append(df, ignore_index = True)\n",
        "\n",
        "  #read in skaters csv\n",
        "  skaters = pd.read_csv(\"full_skaters.csv\")\n",
        "  #lots of random duplicates in the dataset, this will remove them\n",
        "  skaters = skaters.drop_duplicates()\n",
        "  #set up dict structure\n",
        "  starting_dict2 = {'playerID': [''], 'year': [0], 'stint': [0], 'tmID': [''], \n",
        "                   'lgID': [''],'pos': [''], 'GP': [0.0],'G': [0.0], \n",
        "                   'A': [0.0], 'Pts': [0.0], 'PIM': [0.0], '+/-': [0.0], \n",
        "                   'PPG': [0.0],'PPA': [0.0],'SHG': [0.0],'SHA': [0.0],\n",
        "                   'GWG': [0.0], 'GTG': [0.0], 'SOG': [0.0]}\n",
        "  output_skater = pd.DataFrame(starting_dict2)\n",
        "  #for each skater, create an adapted row for the analysis\n",
        "  for index, row in skaters.iterrows():                                                      \n",
        "    df = {'playerID': row['name'], 'year': int(row['season']), 'stint': 1, 'tmID': row['team'], 'lgID': 'NHL',   \n",
        "                                                'GP': float(row['games_played']), 'pos': row['position'], 'G': float(row['I_F_goals']), \n",
        "                                               'A': (float(row['I_F_points']) - float(row['I_F_goals'])), 'Pts': float(row['I_F_points']),\n",
        "                                                'PIM': float(row['penalityMinutes']), '+/-': 0.0,'PPG': 0.0, 'PPA': 0.0,'SHG': 0.0,\n",
        "                                               'SHA': 0.0,'GWG': 0.0, 'GTG': 0.0,'SOG': 0.0}\n",
        "    output_skater = output_skater.append(df, ignore_index = True)\n",
        "  return output_goalie.drop_duplicates(), output_skater.drop_duplicates()"
      ],
      "metadata": {
        "id": "gUJo1N1QsLTM"
      },
      "execution_count": null,
      "outputs": []
    },
    {
      "cell_type": "markdown",
      "source": [
        "Dissapointingly, it appears that the money puck data does not include wins, losses, ties, empty nets, or shutouts (W, L, T/OL, ENG, SHO stats) for goaltenders like the hockey database includes. The additional data disruption will not involve those features. \n",
        "\n",
        "Similarly, the skater dataset from moneypuck is missing the +/-, PPG, PPA, SHG, SHA, GWG, GTG, SOG features. This is not a bad thing because these are the newer statistics that is missing for many entries in the hockey database dataset. Therefore, these can be set to 0 and ignored in the final analysis"
      ],
      "metadata": {
        "id": "A96J6y6Ty5BJ"
      }
    },
    {
      "cell_type": "code",
      "source": [
        "moneypuck_goalies, moneypuck_skaters = convert_moneypuck()"
      ],
      "metadata": {
        "id": "fjjmN3HPsiU8"
      },
      "execution_count": null,
      "outputs": []
    },
    {
      "cell_type": "markdown",
      "source": [
        "### **Clean before initial analysis**\n",
        "\n",
        "Above below serve to clean the datasets. <br>\n",
        "\n",
        "Method for first cleaning: <br>\n",
        "1.   Select only players within the NHL (awards were not awarded to NHA, WHA, or other league players included in the dataset) \n",
        "2.   The NHL awards started in 1924, so any player in seasons before 1924 are removed\n",
        "3.   Features involving the post season are removed. Though, these columns could be included and avoided during parsing, I prefer to remove them to allow easy analysis with head() and other calls.\n",
        "\n",
        "Dataset still needs investigation in each row to see how to treat NaNs in the dataset"
      ],
      "metadata": {
        "id": "IwLx2SpmWwFc"
      }
    },
    {
      "cell_type": "code",
      "source": [
        "#cleans up the awards, only contains the awards I am analyzing\n",
        "#param awards_frame is the frame containing the awards data\n",
        "#returns the cleaned awards_frame\n",
        "def clean_awards(awards_frame):\n",
        "  #take in the frame, grab only awards I want\n",
        "  output_frame = pd.DataFrame(awards_frame[(awards_frame[\"award\"] == \"Norris\") | (awards_frame[\"award\"] == \"Vezina\") \n",
        "  | (awards_frame[\"award\"] == \"Selke\") | (awards_frame[\"award\"] == \"Lady Byng\") | (awards_frame[\"award\"] == \"Lindsay\")])\n",
        "  \n",
        "  #league ID is all NHL, so that is removed for consistency\n",
        "  #note contains only NaN's, removed for consistency\n",
        "  #pos or position for some reason has no input, that is removed because we have that data in master\n",
        "  del output_frame[\"lgID\"]\n",
        "  del output_frame[\"note\"]\n",
        "  del output_frame[\"pos\"]\n",
        "\n",
        "  return output_frame"
      ],
      "metadata": {
        "id": "sKCY4YX5hmVK"
      },
      "execution_count": null,
      "outputs": []
    },
    {
      "cell_type": "code",
      "source": [
        "#cleans the goalies dataset\n",
        "#param goalie_frame is the goalie dataframe\n",
        "#return the cleaned dataframe\n",
        "def clean_goalies(goalie_frame):\n",
        "  #take only NHL goalies (no WHA/NHA/WCHL/PCHA players) after 1924\n",
        "  output_frame = pd.DataFrame(goalie_frame[goalie_frame[\"lgID\"] == \"NHL\"])\n",
        "  output_frame = pd.DataFrame(output_frame[output_frame[\"year\"] >= 1924])\n",
        "  #Adding a winning percentage value to each goalie, it helps check the value of wins per game played\n",
        "  #this highlights players who did not play many games but won many, not just \n",
        "  #wins in total\n",
        "  output_frame[\"WP\"] = output_frame[\"W\"] / output_frame[\"GP\"]\n",
        "  #adding games played per goal against. Goal against is a hard stat to highlight\n",
        "  #if a player played 1 game and had no goals against, that shows up better than\n",
        "  #a long term player who was scored on once in 80 games. So, this hopefully can \n",
        "  #highlight a longer term player with good play.\n",
        "  output_frame[\"GP/GA\"] = output_frame[\"GP\"] / output_frame[\"GA\"]\n",
        "\n",
        "  #For important statistics, Set values that are NAN to 0's\n",
        "  non_nulls = [\"GP\", \"Min\", \"W\", \"L\", \"T/OL\", \"SHO\", \"GA\", \"WP\", \"GP/GA\"]\n",
        "  for item in non_nulls:\n",
        "    output_frame.loc[output_frame[item].isnull(), item] = 0\n",
        "\n",
        "  #remove postseason columns for ease of dataframe handling\n",
        "  post = [\"PostGP\", \"PostMin\", \"PostW\", \"PostT\", \"PostENG\", \"PostSHO\", \"PostSA\", \"PostL\", \"PostGA\"]\n",
        "  for item in post:\n",
        "    del output_frame[item]\n",
        "\n",
        "  \n",
        "  return output_frame"
      ],
      "metadata": {
        "id": "pcFCL6LJwoY_"
      },
      "execution_count": null,
      "outputs": []
    },
    {
      "cell_type": "code",
      "source": [
        "#cleans the skater dataset\n",
        "#param skater_frame is the skater dataframe\n",
        "#return the cleaned dataframe\n",
        "def clean_skaters(skater_frame):\n",
        "  #take only NHL goalies (no WHA/NHA/WCHL/PCHA players) after 1924\n",
        "  output_frame = pd.DataFrame(skater_frame[skater_frame[\"lgID\"] == \"NHL\"])\n",
        "  output_frame = pd.DataFrame(output_frame[output_frame[\"year\"] >= 1924])\n",
        "\n",
        "  #Constants that can have null's turned into 0's\n",
        "  non_nulls = [\"GP\", \"G\", \"A\", \"Pts\", \"PIM\"]\n",
        "  for item in non_nulls:\n",
        "    output_frame.loc[output_frame[item].isnull(), item] = 0\n",
        "\n",
        "  #remove postseason columns for ease of dataframe handling\n",
        "  post = [\"PostGP\", \"PostG\", \"PostA\", \"PostPts\", \"PostPIM\", \"Post+/-\", \"PostPPG\", \"PostSHG\", \"PostSHA\", \"PostGWG\", \"PostSOG\", \"PostPPA\"]\n",
        "  for item in post:\n",
        "    del output_frame[item]\n",
        "\n",
        "  return output_frame"
      ],
      "metadata": {
        "id": "oXzkaNzGBTVc"
      },
      "execution_count": null,
      "outputs": []
    },
    {
      "cell_type": "code",
      "source": [
        "#reads the csv's in and cleans the data before returning to be used\n",
        "def clean_main():\n",
        "  #read in data\n",
        "  skater_frame = pd.read_csv('Scoring.csv')\n",
        "  goalie_frame = pd.read_csv('goalies_2.csv')\n",
        "  awards_frame = pd.read_csv('AwardsPlayers.csv')\n",
        "  \n",
        "  #clean frames\n",
        "  awards_frame = clean_awards(awards_frame)\n",
        "  goalie_frame = clean_goalies(goalie_frame)\n",
        "  skater_frame = clean_skaters(skater_frame)\n",
        "  return skater_frame, goalie_frame, awards_frame"
      ],
      "metadata": {
        "id": "1FPImQUkbnmE"
      },
      "execution_count": null,
      "outputs": []
    },
    {
      "cell_type": "code",
      "source": [
        "#clean the datasets\n",
        "skater_frame, goalie_frame, awards_frame = clean_main()"
      ],
      "metadata": {
        "id": "SXyD-eltc8DU"
      },
      "execution_count": null,
      "outputs": []
    },
    {
      "cell_type": "markdown",
      "source": [
        "### **Initial dataset viewing and analysis**"
      ],
      "metadata": {
        "id": "lhhFtesjpLMc"
      }
    },
    {
      "cell_type": "code",
      "source": [
        "#overview of goalie dataframe\n",
        "print(goalie_frame.info())\n",
        "goalie_frame"
      ],
      "metadata": {
        "id": "rBTl0Hhocb6S"
      },
      "execution_count": null,
      "outputs": []
    },
    {
      "cell_type": "markdown",
      "source": [
        "From above, all of the players have a Player ID, year, etc, except a few NULL values. Shots Against (SA) is missing 1369 values and Empty Net Goals are missing 522 values. This makes sense as these values were first recorded in the late 80s and 70s respectively. From this, those values can be ignored in the future analysis"
      ],
      "metadata": {
        "id": "yqtB-T6ecgy_"
      }
    },
    {
      "cell_type": "code",
      "source": [
        "#overview of skater dataframe\n",
        "print(skater_frame.info())\n",
        "skater_frame"
      ],
      "metadata": {
        "id": "Icx7HpwP_ZmY"
      },
      "execution_count": null,
      "outputs": []
    },
    {
      "cell_type": "markdown",
      "source": [
        "From the above output, the metrics of  +/-, PPG, PPA, SHG, SHA, GWG, GTG, SOG, are not included by all of the valid players. Similarly to the goaltender values, these values were not counted in the early era of the NHL. These statistics will not be included in the analysis."
      ],
      "metadata": {
        "id": "x03FDBqKBb3z"
      }
    },
    {
      "cell_type": "code",
      "source": [
        "awards_frame"
      ],
      "metadata": {
        "id": "gJ_m9MNhn6jm"
      },
      "execution_count": null,
      "outputs": []
    },
    {
      "cell_type": "markdown",
      "source": [
        "Above is just to show how the awards frame is structured, all it contains is the player ID, award name, and year it was given."
      ],
      "metadata": {
        "id": "cZQ2XjhMn8ip"
      }
    },
    {
      "cell_type": "markdown",
      "source": [
        "### **Helper Functions**\n",
        "\n",
        "Below are functions written to assist in the award analysis section. They have been developed to work with the different award types, thereby writing minimal code to get full results"
      ],
      "metadata": {
        "id": "gCo2mVcC26m-"
      }
    },
    {
      "cell_type": "code",
      "source": [
        "# function for adding labels to bar charts\n",
        "# this function was utilized from class which was utilized from the matplotlib link below\n",
        "#credit attributed to bibliography item [6]\n",
        "def add_label_on_top(bars):\n",
        "    \"\"\"Add a text label above each bar in **bars**, \n",
        "    indicating the height of the bar\"\"\"\n",
        "    for bar in bars:\n",
        "        height = bar.get_height()\n",
        "        ax.annotate(f'{height}',\n",
        "                     xy=(bar.get_x() + bar.get_width() / 2, height),\n",
        "                     xytext=(0, 3),  # vertical offset 3 pts                               \n",
        "                     textcoords=\"offset points\",\n",
        "                     ha='center', va='bottom')\n",
        "        \n",
        "# https://matplotlib.org/3.1.1/gallery/lines_bars_and_markers/barchart.html  "
      ],
      "metadata": {
        "id": "5S2hnrT8vHsZ"
      },
      "execution_count": null,
      "outputs": []
    },
    {
      "cell_type": "code",
      "source": [
        "#gives the number of unique players that have won a specific award\n",
        "#param award is the name of the award\n",
        "def unique_winners(award):\n",
        "  award_winners = awards_frame.loc[(awards_frame['award'] == award)]\n",
        "  total_players = len(award_winners)\n",
        "  unique_players = len(award_winners[\"playerID\"].unique())\n",
        "  non_unique_percentage = ((total_players - unique_players) / total_players) * 100\n",
        "\n",
        "  print(\"The number of unique players that has won the \" + award + \" award is \"+ str(unique_players) + \" out of \" + str(total_players) + \" total winners\")\n",
        "  print(\"Overall, this means \" + str(round(non_unique_percentage, 2)) + \"% of seasons have repeat award winners\")"
      ],
      "metadata": {
        "id": "V_BvlCZvE5vR"
      },
      "execution_count": null,
      "outputs": []
    },
    {
      "cell_type": "code",
      "source": [
        "#makes a violin plot for each award depending on a given feature\n",
        "#param feature is the feature the violin plot are being created for\n",
        "def violinplot_feature(feature):\n",
        "  lady_byng = []\n",
        "  lindsay = []\n",
        "  selke = []\n",
        "  norris = []\n",
        "  for award in awards_list:\n",
        "    #grab list of winners\n",
        "    award_winners = awards_frame.loc[(awards_frame['award'] == award)]\n",
        "    #for each winner, grab the value and add it to the list\n",
        "    for index, row in award_winners.iterrows():\n",
        "      player = skater_frame.loc[(skater_frame['playerID'] == row['playerID']) & (skater_frame['year'] == row['year'])]\n",
        "      if player.empty:\n",
        "        continue\n",
        "      item = player[feature].values[0]\n",
        "      #could not get match statement to work, if -> elif had to work\n",
        "      if award == \"Norris\":\n",
        "        norris.append(item)\n",
        "      elif award == \"Lindsay\":\n",
        "        lindsay.append(item)\n",
        "      elif award == \"Selke\":\n",
        "        selke.append(item)\n",
        "      elif award == \"Lady Byng\":\n",
        "        lady_byng.append(item)\n",
        "\n",
        "  #plotting\n",
        "  fig, (ax1, ax2, ax3, ax4) = plt.subplots(figsize=(11, 7), nrows=1, ncols=4, sharey='row')\n",
        "  fig.suptitle(feature + \" per Award\")\n",
        "  ax1.violinplot(lady_byng, showmedians=True)\n",
        "  ax1.set_title(\"Lady Byng\")\n",
        "\n",
        "  ax2.violinplot(lindsay, showmedians=True)\n",
        "  ax2.set_title(\"Lindsay\")\n",
        "\n",
        "  ax3.violinplot(selke, showmedians=True)\n",
        "  ax3.set_title(\"Selke\")\n",
        "\n",
        "  ax4.violinplot(norris, showmedians=True)\n",
        "  ax4.set_title(\"Norris\")\n",
        "  plt.show()"
      ],
      "metadata": {
        "id": "cIedel6m_KOt"
      },
      "execution_count": null,
      "outputs": []
    },
    {
      "cell_type": "code",
      "source": [
        "#Plots the award winners and best or next best player for a specific feature over the years\n",
        "#param award is the award being analyzed\n",
        "#param feature is the feature being analyzed over time\n",
        "def features_over_time(award, feature):\n",
        "  #set arrays for each statistic\n",
        "  winner_stat = []\n",
        "  non_winner_stat = []\n",
        "  years = []\n",
        "  award_winners = awards_frame.loc[(awards_frame['award'] == award)]\n",
        "\n",
        "  #if the award is the vezina, analyze goaltenders\n",
        "  if award == 'Vezina':\n",
        "    #for each award winner\n",
        "    for index, row in award_winners.iterrows():\n",
        "      #grab the player and the statistic value\n",
        "      player = goalie_frame.loc[(goalie_frame['playerID'] == row['playerID']) & (goalie_frame['year'] == row['year'])]\n",
        "      if player.empty:\n",
        "        continue\n",
        "      winner_stat.append(player[feature].values[0])\n",
        "      years.append(player[\"year\"].values[0])\n",
        "      tmp_stat = 0\n",
        "\n",
        "      #go through each goaltender and find the best that is not the award winner\n",
        "      for index2, row2 in pd.DataFrame(goalie_frame.loc[(goalie_frame['year'] == player['year'].values[0]) & (goalie_frame['playerID'] != row['playerID'])]).iterrows():\n",
        "        if row2[feature] > tmp_stat:\n",
        "          tmp_stat = row2[feature]\n",
        "      non_winner_stat.append(tmp_stat)\n",
        "  else:\n",
        "    for index, row in award_winners.iterrows():\n",
        "      player = skater_frame.loc[(skater_frame['playerID'] == row['playerID']) & (skater_frame['year'] == row['year'])]\n",
        "      if player.empty:\n",
        "        continue\n",
        "      winner_stat.append(player[feature].values[0])\n",
        "      years.append(player[\"year\"].values[0])\n",
        "      tmp_stat = 0\n",
        "      if award == \"Norris\":\n",
        "        #go through each defenseman and find the best that is not the award winner\n",
        "        for index2, row2 in pd.DataFrame(skater_frame.loc[(skater_frame['year'] == player['year'].values[0]) & (skater_frame['playerID'] != row['playerID']) & (skater_frame['pos'] == \"D\")]).iterrows():\n",
        "          if row2[feature] > tmp_stat:\n",
        "            tmp_stat = row2[feature]\n",
        "        non_winner_stat.append(tmp_stat)\n",
        "      elif award == \"Selke\":\n",
        "        #go through each non defenseman and find the best that is not the award winner\n",
        "        for index2, row2 in pd.DataFrame(skater_frame.loc[(skater_frame['year'] == player['year'].values[0]) & (skater_frame['playerID'] != row['playerID']) & (skater_frame['pos'] != \"D\")]).iterrows():\n",
        "          if row2[feature] > tmp_stat:\n",
        "            tmp_stat = row2[feature]\n",
        "        non_winner_stat.append(tmp_stat)\n",
        "      else:\n",
        "        #go through each player and find the best that is not the award winner\n",
        "        for index2, row2 in pd.DataFrame(skater_frame.loc[(skater_frame['year'] == player['year'].values[0]) & (skater_frame['playerID'] != row['playerID'])]).iterrows():\n",
        "          if row2[feature] > tmp_stat:\n",
        "            tmp_stat = row2[feature]\n",
        "        non_winner_stat.append(tmp_stat)\n",
        "  #plotting\n",
        "  fig, ax1 = plt.subplots(figsize=(11, 7))\n",
        "\n",
        "  line1 = ax1.plot(years, winner_stat, color = \"#40B0A6\",  label= \"Award Winner\")\n",
        "  line1 = ax1.plot(years, non_winner_stat, color = \"#E1BE6A\", label= \"Best Non-Award Winner\")\n",
        "\n",
        "  ax1.set_xlabel(\"Year\")\n",
        "  ax1.set_ylim(ymin=0)\n",
        "  ax1.legend()\n",
        "  plt.grid()\n",
        "  fig.suptitle(\"Competitive \" + feature + \" value for \" + award + \" award\")"
      ],
      "metadata": {
        "id": "Gdr7iaKl6SZx"
      },
      "execution_count": null,
      "outputs": []
    },
    {
      "cell_type": "markdown",
      "source": [
        "### **Awards Analysis**\n",
        "\n",
        "### **All Awards**\n"
      ],
      "metadata": {
        "id": "fTkL3iSjpmmP"
      }
    },
    {
      "cell_type": "code",
      "source": [
        "#Show unique award winners per award\n",
        "unique = []\n",
        "dup = []\n",
        "\n",
        "for award in awards_list:\n",
        "  #grab the winners of the award\n",
        "  award_winners = awards_frame.loc[(awards_frame['award'] == award)]\n",
        "  #determine the total number and unique number of players\n",
        "  total_players = len(award_winners)\n",
        "  unique_players = len(award_winners[\"playerID\"].unique())\n",
        "  #append to lists\n",
        "  unique.append(unique_players)\n",
        "  dup.append(total_players - unique_players)\n",
        "\n",
        "#plotting\n",
        "fig, ax = plt.subplots(figsize=(11, 7))\n",
        "\n",
        "x_pos = np.arange(len(awards_list))\n",
        "width=0.35 # 0.5 to leave no white space\n",
        "bar1 = ax.bar(x_pos - width/2, unique, \n",
        "              color=\"#E66100\", \n",
        "              width=width, label='Unique')\n",
        "bar2 = ax.bar(x_pos + width/2, dup, \n",
        "              color=\"#5D3A9B\", \n",
        "              width=width, label='Repeat')\n",
        "\n",
        "ax.set_xticks(x_pos)\n",
        "ax.set_xticklabels(awards_list)\n",
        "\n",
        "\n",
        "ax.set_title('Unique award winners vs Repeat winners')\n",
        "ax.legend()\n",
        "add_label_on_top(bar1)\n",
        "add_label_on_top(bar2)\n",
        "ax.set_ylabel('Number of Players')\n"
      ],
      "metadata": {
        "id": "fPUJfxmb2Zmu"
      },
      "execution_count": null,
      "outputs": []
    },
    {
      "cell_type": "markdown",
      "source": [
        "The above graphs give some interesting conclusions:\n",
        "\n",
        "*   About Half of all Vezina award winners are repeat winners\n",
        "*   It is more likely that a Norris winner will be a repeat winner than a unique winner, the only award that exhibits this attribute\n",
        "*  The Lindsay award is the newest award therefore its unknown if winners repeat wins in future seasons without additional data\n",
        "\n",
        "Now, let us look at each feature attribute and compare them between these award winners\n",
        "\n"
      ],
      "metadata": {
        "id": "tkunKVVC5y4t"
      }
    },
    {
      "cell_type": "code",
      "source": [
        "#Games Played\n",
        "violinplot_feature(\"GP\")"
      ],
      "metadata": {
        "id": "TfTpX22M-sie"
      },
      "execution_count": null,
      "outputs": []
    },
    {
      "cell_type": "markdown",
      "source": [
        "In terms of games played, almost every award has an upper bound of the maximum games in a season. The average is a above 70, around the 78 mark, meaning most players play a majority of the games in the season.\n",
        "\n",
        "The Lady Byng award stands out as the lower quarter of values is below 50 games to around 13 games. However, it is incredibly dense at the upper end of the games played spectrum. The Lady Byng was created as the first award [10] in an era with less teams and less games played, therefore it makes sense that density increases around the 45 game mark"
      ],
      "metadata": {
        "id": "9lzO-jcjFau_"
      }
    },
    {
      "cell_type": "code",
      "source": [
        "#Goals\n",
        "violinplot_feature(\"G\")"
      ],
      "metadata": {
        "id": "ccprF_QgDrml"
      },
      "execution_count": null,
      "outputs": []
    },
    {
      "cell_type": "markdown",
      "source": [
        "Though it had the lowest values in games played, the lady byng award has the highest range of goals scored compared to the other awards. \n",
        "\n",
        "The Norris and Selke have lower averages than the other awards. This makes sense as these awards are for defenseman and the most defensive forwards respectively and scoring is not as necessary for defensive players to succeed."
      ],
      "metadata": {
        "id": "6Ylg0UrsGQJT"
      }
    },
    {
      "cell_type": "code",
      "source": [
        "#Assists\n",
        "violinplot_feature(\"A\")"
      ],
      "metadata": {
        "id": "O91l3TbnDtTk"
      },
      "execution_count": null,
      "outputs": []
    },
    {
      "cell_type": "markdown",
      "source": [
        "The Lady Byng trophy winners lead in upper bounds of points followed closely by the norris trophy. The Selkie trophy winners have the largest desinity at the lower end of assists, around the 35 assists mark. Comparatively, the Norris and Lady Byng trophy winners have a higher density above the lower value bound."
      ],
      "metadata": {
        "id": "mzon3ch1IN47"
      }
    },
    {
      "cell_type": "code",
      "source": [
        "#Points\n",
        "violinplot_feature(\"Pts\")"
      ],
      "metadata": {
        "id": "7GNENVJxDuU7"
      },
      "execution_count": null,
      "outputs": []
    },
    {
      "cell_type": "markdown",
      "source": [
        "Because points is goal # + assist #, the violin follow a similar pattern to those plots put together. "
      ],
      "metadata": {
        "id": "cRGHJocIIYn8"
      }
    },
    {
      "cell_type": "code",
      "source": [
        "#Penalty Minutes\n",
        "violinplot_feature(\"PIM\")"
      ],
      "metadata": {
        "id": "p5bNRrUFDvJq"
      },
      "execution_count": null,
      "outputs": []
    },
    {
      "cell_type": "markdown",
      "source": [
        "Norris winners lead the other awards in penalty minutes. The Lady Byng trophy is the smallest range which makes sense, the Lady Byng is given to the player with the most gentlemanly conduct [10], therefore someone that creates the least amount of penalties is more likely to be awarded it."
      ],
      "metadata": {
        "id": "gnT0yqcEImvi"
      }
    },
    {
      "cell_type": "markdown",
      "source": [
        "### **Vezina Award**"
      ],
      "metadata": {
        "id": "G718ufZo2VBB"
      }
    },
    {
      "cell_type": "code",
      "source": [
        "## See the vezina award winners, what is the team distribution?\n",
        "team = []\n",
        "number = []\n",
        "\n",
        "#for each award winner\n",
        "for index, row in awards_frame.iterrows():\n",
        "  if row['award'] == \"Vezina\":\n",
        "    #grab the winning player\n",
        "    player = goalie_frame.loc[(goalie_frame['playerID'] == row['playerID']) & (goalie_frame['year'] == row['year'])]\n",
        "    #if the team is not in the list, add the team, else increment the teams counter\n",
        "    if player[\"tmID\"].values[0] not in team:\n",
        "      team.append(player[\"tmID\"].values[0])\n",
        "      number.append(1)\n",
        "    else:\n",
        "      number[team.index(player[\"tmID\"].values[0])] += 1\n",
        "\n",
        "fig, ax = plt.subplots(figsize=(11, 7))\n",
        "\n",
        "bar1 = ax.bar(team, number, color = \"#005ab5\")\n",
        "add_label_on_top(bar1)\n",
        "plt.title(\"Vezina Winners per Team\")\n",
        "plt.ylabel('Award Winner #')\n",
        "plt.xlabel(\"Team\")"
      ],
      "metadata": {
        "id": "nFiHK7AJUawP"
      },
      "execution_count": null,
      "outputs": []
    },
    {
      "cell_type": "markdown",
      "source": [
        "A large majority of Vezina winners played for MTL. In the grand scheme this can make sense as MTL is one of the original teams in the league. But, does MTL have an advantage by having less competition? Below will be how many teams were in the league when a MTL player won the vezina. "
      ],
      "metadata": {
        "id": "jtUtffdN52lU"
      }
    },
    {
      "cell_type": "code",
      "source": [
        "## See the vezina award winners, what is the team distribution?\n",
        "team_num = []\n",
        "count = []\n",
        "\n",
        "#For each award winner\n",
        "for index, row in awards_frame.iterrows():\n",
        "  if row['award'] == \"Vezina\":\n",
        "    #select the player\n",
        "    player = goalie_frame.loc[(goalie_frame['playerID'] == row['playerID']) & (goalie_frame['year'] == row['year'])]\n",
        "    #if they played for montreal\n",
        "    if player[\"tmID\"].values[0] == \"MTL\":\n",
        "      #find out how many teams there are in the league at the time\n",
        "      current_year_players = goalie_frame.loc[(goalie_frame['year'] == row['year'])]\n",
        "      num_team = len(current_year_players[\"tmID\"].unique())\n",
        "      #if not in the list, add it. Otherwise, increment it's counter\n",
        "      if num_team not in team_num:\n",
        "        team_num.append(num_team)\n",
        "        count.append(1)\n",
        "      else:\n",
        "        count[team_num.index(num_team)] += 1\n",
        "\n",
        "#plotting\n",
        "fig, ax = plt.subplots(figsize=(10, 9))\n",
        "\n",
        "\n",
        "ax.pie(count, labels=team_num, autopct='%1.1f%%', startangle=90, colors = [  '#CBB825',  '#4B9E64', '#A459B7', '#278E9E', '#AFC993','#79A731','#CE8934',\"#CE6D68\", '#F5EFD5'])\n",
        "ax.axis('equal')  # Equal aspect ratio ensures that pie is drawn as a circle.\n",
        "ax.set_title(\"Number of Teams In the NHL During MTL Vezina Win\")\n",
        "\n",
        "plt.show()\n"
      ],
      "metadata": {
        "id": "rjlffhAA1ze9"
      },
      "execution_count": null,
      "outputs": []
    },
    {
      "cell_type": "markdown",
      "source": [
        "From the percentage pie graph above, a large majority of the vezina wins occured with only 6 teams in the league. This does not undermine the award win, however, it adds context to MTL winning more than 30% of the Vezina trophies."
      ],
      "metadata": {
        "id": "-Gx24NMsDKdb"
      }
    },
    {
      "cell_type": "code",
      "source": [
        "#Develop feature ranking\n",
        "#for each feature of the award winner, if they are the best of that statistic compared to all other players that season, then increment the \"superior\" counter\n",
        "#Otherwise, if another is better in that feature, increment the \"inferior\" counter\n",
        "feature = [\"GP\", \"Min\", \"W\", \"SHO\", \"WP\", \"GP/GA\"]\n",
        "superior = [0, 0, 0, 0, 0, 0]\n",
        "inferior = [0, 0, 0, 0, 0, 0]\n",
        "\n",
        "for index, row in awards_frame.iterrows():\n",
        "  greatthan = [\"GP\", \"Min\", \"W\", \"SHO\", \"WP\", \"GP/GA\"]\n",
        "  if row['award'] == \"Vezina\":\n",
        "    #grab the player\n",
        "    player = goalie_frame.loc[(goalie_frame['playerID'] == row['playerID']) & (goalie_frame['year'] == row['year'])]\n",
        "    #for each player in that year\n",
        "    for index2, row2 in pd.DataFrame(goalie_frame[goalie_frame['year'] == player['year'].values[0]]).iterrows():\n",
        "      #for the greatthan items\n",
        "      for item in greatthan:\n",
        "        #if the winner has a smaller value than some players\n",
        "        if player[item].values[0] < row2[item]:\n",
        "          #increment inferior and remove the item from the list of lessthan\n",
        "          greatthan.remove(item)\n",
        "          inferior[feature.index(item)] += 1\n",
        "    #for each remaining value, increment superior\n",
        "    for item in greatthan:  \n",
        "      superior[feature.index(item)] += 1\n",
        "\n",
        "\n",
        "data = {\"feature\": feature, \"superior\": superior, \"inferior\": inferior}\n",
        "vezina = pd.DataFrame(data)\n",
        "\n",
        "#plotting\n",
        "fig, ax = plt.subplots(figsize=(11, 7))\n",
        "\n",
        "x_pos = np.arange(len(feature))\n",
        "width=0.35 # 0.5 to leave no white space\n",
        "bar1 = ax.bar(x_pos - width/2, superior, \n",
        "              color=\"#b32db5\", \n",
        "              width=width, label='superior')\n",
        "bar2 = ax.bar(x_pos + width/2, inferior, \n",
        "              color=\"#0e288e\", \n",
        "              width=width, label='inferior')\n",
        "\n",
        "ax.set_xticks(x_pos)\n",
        "ax.set_xticklabels(feature)\n",
        "\n",
        "ax.set_title('Feature Superiority by Vezina Award Winner')\n",
        "ax.legend()\n",
        "add_label_on_top(bar1)\n",
        "add_label_on_top(bar2)\n",
        "ax.set_ylabel('Number of Players')\n",
        "\n"
      ],
      "metadata": {
        "id": "1PaOzNTqCeuv"
      },
      "execution_count": null,
      "outputs": []
    },
    {
      "cell_type": "markdown",
      "source": [
        "As shown in the sorted dataframe above, the most significant feature in signalling the vezina award winner is Shutouts followed closely by wins.\n",
        "\n",
        "Losses, ties or overtime losses, and goals against were not significant features. However, this can be attributed to goalies that play 1 game and may lose only 1 game. Even if a player only loses 2 out of 82 games, this 1 game player will look better in total losses. \n",
        "\n",
        "In every factor, the number of award winners superior in an attribute is outweighed by the number of non-award winners in that attribute.  "
      ],
      "metadata": {
        "id": "8U8rglFB--s4"
      }
    },
    {
      "cell_type": "code",
      "source": [
        "#determine total unique winners of the vezina\n",
        "unique_winners(\"Vezina\")"
      ],
      "metadata": {
        "id": "82nnw3qqHMmo"
      },
      "execution_count": null,
      "outputs": []
    },
    {
      "cell_type": "code",
      "source": [
        "#Feature over time analysis\n",
        "for feature in goalie_good_features:\n",
        "  features_over_time(\"Vezina\", feature)"
      ],
      "metadata": {
        "id": "A77VGli6S1G8"
      },
      "execution_count": null,
      "outputs": []
    },
    {
      "cell_type": "markdown",
      "source": [
        "Of the many graphs above, let's highlight the SHO and Win value.\n",
        "\n",
        "In terms of shutouts, the number spikes at the beginning of the award but overall goes up and down between the 0 and 15 range. From the feature superiority barchart, award winners were most superior with shutouts than any other statistic. Here, the award winner line is above the non winner line but not by a large margin.\n",
        "\n",
        "In terms of wins, both award and non award winenrs have an upward trend in numbers of wins. From 1960 to 1980, the number of wins drop, but trend upwards after. "
      ],
      "metadata": {
        "id": "Pq2UEbNu5lYW"
      }
    },
    {
      "cell_type": "markdown",
      "source": [
        "### **Norris Award**"
      ],
      "metadata": {
        "id": "tkvRWd9NxF_G"
      }
    },
    {
      "cell_type": "code",
      "source": [
        "#team distribution\n",
        "team = []\n",
        "number = []\n",
        "\n",
        "for index, row in awards_frame.iterrows():\n",
        "  if row['award'] == \"Norris\":\n",
        "    player = skater_frame.loc[(skater_frame['playerID'] == row['playerID']) & (skater_frame['year'] == row['year'])]\n",
        "    if player[\"tmID\"].values[0] not in team:\n",
        "      team.append(player[\"tmID\"].values[0])\n",
        "      number.append(1)\n",
        "    else:\n",
        "      number[team.index(player[\"tmID\"].values[0])] += 1\n",
        "\n",
        "fig, ax = plt.subplots(figsize=(11, 7))\n",
        "\n",
        "bar1 = ax.bar(team, number, color = \"#4B0092\")\n",
        "add_label_on_top(bar1)\n",
        "plt.title(\"Norris Winners per Team\")\n",
        "plt.ylabel('Award Winner #')\n",
        "plt.xlabel(\"Team\")"
      ],
      "metadata": {
        "id": "5MWB8ksoxK4s"
      },
      "execution_count": null,
      "outputs": []
    },
    {
      "cell_type": "code",
      "source": [
        "#feature superiority\n",
        "feature = [\"GP\", \"G\", \"A\", \"Pts\"]\n",
        "superior = [0, 0, 0, 0]\n",
        "inferior = [0, 0, 0, 0]\n",
        "\n",
        "for index, row in awards_frame.iterrows():\n",
        "  features = [\"GP\", \"G\", \"A\", \"Pts\"]\n",
        "  #negative statistics: losses, overtime losses, and goals against should be counted differently\n",
        "  if row['award'] == \"Norris\":\n",
        "    #grab the player\n",
        "    player = skater_frame.loc[(skater_frame['playerID'] == row['playerID']) & (skater_frame['year'] == row['year'])]\n",
        "    #for each player in that year\n",
        "    for index2, row2 in pd.DataFrame(skater_frame.loc[(skater_frame['year'] == player['year'].values[0]) & (skater_frame['pos'] == \"D\")]).iterrows():\n",
        "      #for each feature\n",
        "      for item in features:\n",
        "        #if the winner has a smaller value than some players\n",
        "        if player[item].values[0] < row2[item]:\n",
        "          #increment inferior and remove the item from the list of lessthan\n",
        "          inferior[feature.index(item)] += 1\n",
        "          features.remove(item)\n",
        "    #for each remaining value, increment superior\n",
        "    for item in features:  \n",
        "      superior[feature.index(item)] += 1\n",
        "\n",
        "data = {\"feature\": feature, \"superior\": superior, \"inferior\": inferior}\n",
        "awards = pd.DataFrame(data)\n",
        "\n",
        "#plotting\n",
        "plt.figure()\n",
        "fig, ax = plt.subplots(figsize=(11, 7))\n",
        "\n",
        "x_pos = np.arange(len(feature))\n",
        "width=0.35 # 0.5 to leave no white space\n",
        "bar1 = ax.bar(x_pos - width/2, superior, \n",
        "              color=\"#FFC20A\", \n",
        "              width=width, label='superior')\n",
        "bar2 = ax.bar(x_pos + width/2, inferior, \n",
        "              color=\"#0c7bdc\", \n",
        "              width=width, label='inferior')\n",
        "\n",
        "ax.set_xticks(x_pos)\n",
        "ax.set_xticklabels(feature)\n",
        "\n",
        "ax.set_title('Feature Superiority by Norris Award Winner')\n",
        "ax.legend()\n",
        "plt.ylabel('Number of Players')\n",
        "add_label_on_top(bar1)\n",
        "add_label_on_top(bar2)\n",
        "plt.show()"
      ],
      "metadata": {
        "id": "Y-cGCzvvz4BU"
      },
      "execution_count": null,
      "outputs": []
    },
    {
      "cell_type": "markdown",
      "source": [
        "As shown in the sorted dataframe above, the most significant feature in signalling the norris award winner is points followed closely by assists. This makes sense as defenseman are desired in their ability to assist forwards in scoring goals. The award winners are the leaders in points and assists more often than non award winners.\n",
        "\n",
        "As future analysis will show, the Norris trophy is the only award in which winners are more often superior in any feature than non award winners. This shows points and assists to be a major marker in Norris Award success"
      ],
      "metadata": {
        "id": "MAfKW3NfIrc2"
      }
    },
    {
      "cell_type": "code",
      "source": [
        "#determine total unique winners of the norris trophy\n",
        "unique_winners(\"Norris\")"
      ],
      "metadata": {
        "id": "dZ4Yts62HrFd"
      },
      "execution_count": null,
      "outputs": []
    },
    {
      "cell_type": "code",
      "source": [
        "for feature in skater_features:\n",
        "  features_over_time(\"Norris\", feature)"
      ],
      "metadata": {
        "id": "oq2rWOagDj-h"
      },
      "execution_count": null,
      "outputs": []
    },
    {
      "cell_type": "markdown",
      "source": [
        "For the Norris award, certain features shine. \n",
        "\n",
        "Penalty minutes for the award winner are generally lower than the highest penalty earner. However, the range from 1970 to 1990 trend downwards compared to the best non-award winner.\n",
        "\n",
        "For points and goals, the Norris award winners around 1970 to 1990 have the largest peaks while one of the lowest drop offs in the middle.\n",
        "\n",
        "Overall, Norris winners exceed their peers in points and assists as seen in the graphs above. "
      ],
      "metadata": {
        "id": "Pxux9Ypa8wIC"
      }
    },
    {
      "cell_type": "markdown",
      "source": [
        "### **Selke Award**"
      ],
      "metadata": {
        "id": "Wz5LblQayiXa"
      }
    },
    {
      "cell_type": "code",
      "source": [
        "team = []\n",
        "number = []\n",
        "\n",
        "for index, row in awards_frame.iterrows():\n",
        "  if row['award'] == \"Selke\":\n",
        "    player = skater_frame.loc[(skater_frame['playerID'] == row['playerID']) & (skater_frame['year'] == row['year'])]\n",
        "    if player[\"tmID\"].values[0] not in team:\n",
        "      team.append(player[\"tmID\"].values[0])\n",
        "      number.append(1)\n",
        "    else:\n",
        "      number[team.index(player[\"tmID\"].values[0])] += 1\n",
        "\n",
        "fig, ax = plt.subplots(figsize=(11, 7))\n",
        "\n",
        "bar1 = ax.bar(team, number, color = \"#DC3220\")\n",
        "add_label_on_top(bar1)\n",
        "plt.title(\"Selke Award Winners per Team\")\n",
        "plt.ylabel('Award Winner #')\n",
        "plt.xlabel(\"Team\")"
      ],
      "metadata": {
        "id": "iu72Wg8qyj4i"
      },
      "execution_count": null,
      "outputs": []
    },
    {
      "cell_type": "code",
      "source": [
        "feature = [\"GP\", \"G\", \"A\", \"Pts\"]\n",
        "superior = [0, 0, 0, 0]\n",
        "inferior = [0, 0, 0, 0]\n",
        "\n",
        "for index, row in awards_frame.iterrows():\n",
        "  features = [\"GP\", \"G\", \"A\", \"Pts\"]\n",
        "  #negative statistics: losses, overtime losses, and goals against should be counted differently\n",
        "  if row['award'] == \"Selke\":\n",
        "    #grab the player\n",
        "    player = skater_frame.loc[(skater_frame['playerID'] == row['playerID']) & (skater_frame['year'] == row['year'])]\n",
        "    #for each player in that year\n",
        "    for index2, row2 in pd.DataFrame(skater_frame.loc[(skater_frame['year'] == player['year'].values[0]) & (skater_frame['pos'] != \"D\")]).iterrows():\n",
        "      #for each feature\n",
        "      for item in features:\n",
        "        #if the winner has a smaller value than some players\n",
        "        if player[item].values[0] < row2[item]:\n",
        "          #increment inferior and remove the item from the list of lessthan\n",
        "          inferior[feature.index(item)] += 1\n",
        "          features.remove(item)\n",
        "    #for each remaining value, increment superior\n",
        "    for item in features:  \n",
        "      superior[feature.index(item)] += 1\n",
        "\n",
        "data = {\"feature\": feature, \"superior\": superior, \"inferior\": inferior}\n",
        "awards = pd.DataFrame(data)\n",
        "\n",
        "#plotting\n",
        "plt.figure()\n",
        "fig, ax = plt.subplots(figsize=(11, 7))\n",
        "\n",
        "x_pos = np.arange(len(feature))\n",
        "width=0.35 # 0.5 to leave no white space\n",
        "bar1 = ax.bar(x_pos - width/2, superior, \n",
        "              color=\"#1A85FF\", \n",
        "              width=width, label='superior')\n",
        "bar2 = ax.bar(x_pos + width/2, inferior, \n",
        "              color=\"#D41159\", \n",
        "              width=width, label='inferior')\n",
        "\n",
        "ax.set_xticks(x_pos)\n",
        "ax.set_xticklabels(feature)\n",
        "\n",
        "ax.set_title('Feature Superiority by Selke Award Winner')\n",
        "ax.legend()\n",
        "plt.ylabel('Number of Players')\n",
        "add_label_on_top(bar1)\n",
        "add_label_on_top(bar2)\n",
        "plt.show()"
      ],
      "metadata": {
        "id": "P44YprXXK2Ep"
      },
      "execution_count": null,
      "outputs": []
    },
    {
      "cell_type": "markdown",
      "source": [
        "The feature ranked highest significance for Selke award selection is games played, however, it is 7/34 players. Otherwise, the features do not reflect well on who will win the Selke.\n",
        "\n",
        "This does make sense as the Selke is awarded for defensive playing forwards and that is hard to calculate with the features available."
      ],
      "metadata": {
        "id": "wRBfVCIdMKSg"
      }
    },
    {
      "cell_type": "code",
      "source": [
        "#determine total unique winners of the selke trophy\n",
        "unique_winners(\"Selke\")"
      ],
      "metadata": {
        "id": "OWooQnXRHz4l"
      },
      "execution_count": null,
      "outputs": []
    },
    {
      "cell_type": "code",
      "source": [
        "for feature in skater_features:\n",
        "  features_over_time(\"Selke\", feature)"
      ],
      "metadata": {
        "id": "uKfOsacJQyTr"
      },
      "execution_count": null,
      "outputs": []
    },
    {
      "cell_type": "markdown",
      "source": [
        "For all of the plots above, the Selke winners follow the general trends from the best non-award winner. However, there are no major signals that signify who wins the Selkie beyond underperforming. \n",
        "\n",
        "The only outstanding value is the number of penalty minutes, the Selke winners are well below the non award winners. "
      ],
      "metadata": {
        "id": "5gTK_PSMBx6X"
      }
    },
    {
      "cell_type": "markdown",
      "source": [
        "### **Ted Lindsay Award**\n",
        "\n",
        "The Ted Lindsay award was created in 2009, therefore there are only 3 winners of this award in the hockey database "
      ],
      "metadata": {
        "id": "FbL3RR1Qy4J5"
      }
    },
    {
      "cell_type": "code",
      "source": [
        "team = []\n",
        "number = []\n",
        "\n",
        "for index, row in awards_frame.iterrows():\n",
        "  if row['award'] == \"Lindsay\":\n",
        "    player = skater_frame.loc[(skater_frame['playerID'] == row['playerID']) & (skater_frame['year'] == row['year'])]\n",
        "    if player[\"tmID\"].values[0] not in team:\n",
        "      team.append(player[\"tmID\"].values[0])\n",
        "      number.append(1)\n",
        "    else:\n",
        "      number[team.index(player[\"tmID\"].values[0])] += 1\n",
        "\n",
        "fig, ax = plt.subplots(figsize=(11, 7))\n",
        "\n",
        "ax.bar(team, number)\n",
        "plt.title(\"Ted Lindsay Award Winners per Team\")\n",
        "plt.ylabel('Award Winner #')\n",
        "plt.xlabel(\"Team\")"
      ],
      "metadata": {
        "id": "PqU9f7Bs0VSj"
      },
      "execution_count": null,
      "outputs": []
    },
    {
      "cell_type": "code",
      "source": [
        "feature = [\"GP\", \"G\", \"A\", \"Pts\"]\n",
        "superior = [0, 0, 0, 0]\n",
        "inferior = [0, 0, 0, 0]\n",
        "\n",
        "for index, row in awards_frame.iterrows():\n",
        "  features = [\"GP\", \"G\", \"A\", \"Pts\"]\n",
        "  #negative statistics: losses, overtime losses, and goals against should be counted differently\n",
        "  if row['award'] == \"Lindsay\":\n",
        "    #grab the player\n",
        "    player = skater_frame.loc[(skater_frame['playerID'] == row['playerID']) & (skater_frame['year'] == row['year'])]\n",
        "    #for each player in that year\n",
        "    for index2, row2 in pd.DataFrame(skater_frame.loc[skater_frame['year'] == player['year'].values[0]]).iterrows():\n",
        "      #for each feature\n",
        "      for item in features:\n",
        "        #if the winner has a smaller value than some players\n",
        "        if player[item].values[0] < row2[item]:\n",
        "          #increment inferior and remove the item from the list of lessthan\n",
        "          inferior[feature.index(item)] += 1\n",
        "          features.remove(item)\n",
        "    #for each remaining value, increment superior\n",
        "    for item in features:  \n",
        "      superior[feature.index(item)] += 1\n",
        "\n",
        "data = {\"feature\": feature, \"superior\": superior, \"inferior\": inferior}\n",
        "awards = pd.DataFrame(data)\n",
        "\n",
        "#plotting\n",
        "plt.figure()\n",
        "fig, ax = plt.subplots(figsize=(11, 7))\n",
        "\n",
        "x_pos = np.arange(len(feature))\n",
        "width=0.35 # 0.5 to leave no white space\n",
        "bar1 = ax.bar(x_pos - width/2, superior, \n",
        "              color=\"#E1BE6A\", \n",
        "              width=width, label='superior')\n",
        "bar2 = ax.bar(x_pos + width/2, inferior, \n",
        "              color=\"#40B0A6\", \n",
        "              width=width, label='inferior')\n",
        "\n",
        "ax.set_xticks(x_pos)\n",
        "ax.set_xticklabels(feature)\n",
        "\n",
        "ax.set_title('Feature Superiority by Lindsay Award Winner')\n",
        "ax.legend()\n",
        "plt.ylabel('Number of Players')\n",
        "add_label_on_top(bar1)\n",
        "add_label_on_top(bar2)\n",
        "plt.show()"
      ],
      "metadata": {
        "id": "CTu4g3D0K9cg"
      },
      "execution_count": null,
      "outputs": []
    },
    {
      "cell_type": "markdown",
      "source": [
        "As shown in the sorted dataframe above, the most significant feature in signalling the lindsay award winner is points followed closely by games played. The small sample size could lead to a large bias in who was chosen."
      ],
      "metadata": {
        "id": "dwHQATTNMq1k"
      }
    },
    {
      "cell_type": "code",
      "source": [
        "#determine total unique winners of the ted lindsay\n",
        "unique_winners(\"Lindsay\")"
      ],
      "metadata": {
        "id": "__f1xQW4H5Ls"
      },
      "execution_count": null,
      "outputs": []
    },
    {
      "cell_type": "markdown",
      "source": [
        "Unfortunately, because there are only three players that have won the Ted Lindsay from this dataset, the feature superiority over time plots do not show any trends. These plots will be performed when the moneypuck data is added to note any major characteristics. "
      ],
      "metadata": {
        "id": "GWJbzse7CJqg"
      }
    },
    {
      "cell_type": "markdown",
      "source": [
        "### **Lady Byng Award**"
      ],
      "metadata": {
        "id": "hApc9GKk2h6v"
      }
    },
    {
      "cell_type": "code",
      "source": [
        "team = []\n",
        "number = []\n",
        "\n",
        "for index, row in awards_frame.iterrows():\n",
        "  if row['award'] == \"Lady Byng\":\n",
        "    player = skater_frame.loc[(skater_frame['playerID'] == row['playerID']) & (skater_frame['year'] == row['year'])]\n",
        "    if player[\"tmID\"].values[0] not in team:\n",
        "      team.append(player[\"tmID\"].values[0])\n",
        "      number.append(1)\n",
        "    else:\n",
        "      number[team.index(player[\"tmID\"].values[0])] += 1\n",
        "\n",
        "fig, ax = plt.subplots(figsize=(11, 7))\n",
        "\n",
        "bar1 = ax.bar(team, number, color = \"#D35FB7\")\n",
        "add_label_on_top(bar1)\n",
        "plt.title(\"Lady Byng Award Winners per Team\")\n",
        "plt.ylabel('Award Winner #')\n",
        "plt.xlabel(\"Team\")"
      ],
      "metadata": {
        "id": "iwGEjNwN2r5e"
      },
      "execution_count": null,
      "outputs": []
    },
    {
      "cell_type": "code",
      "source": [
        "feature = [\"GP\", \"G\", \"A\", \"Pts\"]\n",
        "superior = [0, 0, 0, 0]\n",
        "inferior = [0, 0, 0, 0]\n",
        "\n",
        "for index, row in awards_frame.iterrows():\n",
        "  features = [\"GP\", \"G\", \"A\", \"Pts\"]\n",
        "  #negative statistics: losses, overtime losses, and goals against should be counted differently\n",
        "  if row['award'] == \"Lady Byng\":\n",
        "    #grab the player\n",
        "    player = skater_frame.loc[(skater_frame['playerID'] == row['playerID']) & (skater_frame['year'] == row['year'])]\n",
        "    #for each player in that year\n",
        "    for index2, row2 in pd.DataFrame(skater_frame.loc[skater_frame['year'] == player['year'].values[0]]).iterrows():\n",
        "      #for each feature\n",
        "      for item in features:\n",
        "        #if the winner has a smaller value than some players\n",
        "        if player[item].values[0] < row2[item]:\n",
        "          #increment inferior and remove the item from the list of lessthan\n",
        "          inferior[feature.index(item)] += 1\n",
        "          features.remove(item)\n",
        "    #for each remaining value, increment superior\n",
        "    for item in features:  \n",
        "      superior[feature.index(item)] += 1\n",
        "\n",
        "data = {\"feature\": feature, \"superior\": superior, \"inferior\": inferior}\n",
        "awards = pd.DataFrame(data)\n",
        "\n",
        "#plotting\n",
        "plt.figure()\n",
        "fig, ax = plt.subplots(figsize=(11, 7))\n",
        "\n",
        "x_pos = np.arange(len(feature))\n",
        "width=0.35 # 0.5 to leave no white space\n",
        "bar1 = ax.bar(x_pos - width/2, superior, \n",
        "              color=\"#994f00\", \n",
        "              width=width, label='superior')\n",
        "bar2 = ax.bar(x_pos + width/2, inferior, \n",
        "              color=\"#006cd1\", \n",
        "              width=width, label='inferior')\n",
        "\n",
        "ax.set_xticks(x_pos)\n",
        "ax.set_xticklabels(feature)\n",
        "\n",
        "ax.set_title('Feature Superiority by Lady Byng Award Winner')\n",
        "ax.legend()\n",
        "plt.ylabel('Number of Players')\n",
        "add_label_on_top(bar1)\n",
        "add_label_on_top(bar2)\n",
        "plt.show()"
      ],
      "metadata": {
        "id": "zLh_ybpeLE1n"
      },
      "execution_count": null,
      "outputs": []
    },
    {
      "cell_type": "markdown",
      "source": [
        "As shown in the visualization above, the most significant feature in signalling the Lady Byng award winner is games played followed distantly by assists. "
      ],
      "metadata": {
        "id": "yX8NWqpJM5X2"
      }
    },
    {
      "cell_type": "code",
      "source": [
        "#determine total unique winners of the tady byng award\n",
        "unique_winners(\"Lady Byng\")"
      ],
      "metadata": {
        "id": "xqgfs7EmIEIo"
      },
      "execution_count": null,
      "outputs": []
    },
    {
      "cell_type": "code",
      "source": [
        "for feature in skater_features:\n",
        "  features_over_time(\"Lady Byng\", feature)"
      ],
      "metadata": {
        "id": "nW8WrEfWRfny"
      },
      "execution_count": null,
      "outputs": []
    },
    {
      "cell_type": "markdown",
      "source": [
        "The Lady Byng trophy winner features trends follow almost directly with the best non-award except in Penalty Minutes. In that case, the Lady Byng is well below the largest penalty minute holder. The Lady Byng award is for the most gentlemanly player, so they would earn less penalties for fighting, hurting, or being generally mean to other players. Therefore, the lower amount of penalties makes sense for this award and is a clear signifyer for who would win the award."
      ],
      "metadata": {
        "id": "GrXCCpMtCe-M"
      }
    },
    {
      "cell_type": "markdown",
      "source": [
        "### **Data Sensitivity from 2012-2021 Data**\n",
        "\n",
        "After the analysis involving the Hockey Database material, the following will test how adding the moneypuck.com data will effect the overall data. Specifically, how does it modify the mean and general deviation of all features? If it changes the mean or standard deviation greatly then the dataset is volatile to new, real data. \n",
        "\n",
        "As well, this section will look at the Ted Lindsay award under a new lense with more data to hopefully get better conclusions than with only 3 observations. "
      ],
      "metadata": {
        "id": "5teya1rKG8yq"
      }
    },
    {
      "cell_type": "code",
      "source": [
        "#Data before adding the 2012-2021 data\n",
        "goalie_frame.describe()"
      ],
      "metadata": {
        "id": "_UwkLo8qqaoA"
      },
      "execution_count": null,
      "outputs": []
    },
    {
      "cell_type": "code",
      "source": [
        "skater_frame.describe()"
      ],
      "metadata": {
        "id": "VU2c_M86q5p3"
      },
      "execution_count": null,
      "outputs": []
    },
    {
      "cell_type": "code",
      "source": [
        "#Add the 2012-2021 data to the dataset\n",
        "#combine goaltenders\n",
        "goalie_frame = goalie_frame.append(moneypuck_goalies, ignore_index=True)\n",
        "#combine skaters\n",
        "skater_frame = skater_frame.append(moneypuck_skaters, ignore_index=True)\n",
        "#read in and combine awards\n",
        "new_awards = pd.read_csv('awards_2012_2021.csv')\n",
        "awards_frame = awards_frame.append(new_awards, ignore_index=True)"
      ],
      "metadata": {
        "id": "_Rg0YbQ5HJcW"
      },
      "execution_count": null,
      "outputs": []
    },
    {
      "cell_type": "code",
      "source": [
        "goalie_frame.describe()"
      ],
      "metadata": {
        "id": "ado4eaZmq-Gk"
      },
      "execution_count": null,
      "outputs": []
    },
    {
      "cell_type": "markdown",
      "source": [
        "After adding the 2012-2021 dataset, the mean years increase which is expected as adding new player seasons should raise the overall year.\n",
        "\n",
        "The numbers of games played for the goalie frame has decreased. This is surprising to me as newer seasons are longer than seasons in 1924, I would assume the numbers of games played would increase but that is clearly not the case.\n",
        "\n",
        "While doing this analysis, the mean number of minutes on the ice has jumped up from 1530.169767 to 18553.993496. That does not make sense, that implies the average player plays 308 hours of hockey which is NOT correct. So, with some investigation, the moneypuck.com [2] data for ice time is in terms of seconds and not minutes. That was changed to minutes in how I take in the moneypuck.com data. \n",
        "\n",
        "After fixing this, the number of minutes has fallen from 1530 to 1518, mirroring the drop in games played. \n",
        "\n",
        "The only other statistic that the money puck data provides is Goals Against, that mean number has decreased form 76 to 74 with a smaller standard deviation. This shows newer goaltenders let in overall less goals, consistently. \n",
        "\n",
        "The standard deviation for all values has dropped with new data with minimal mean value changes. This shows an overall consistency and less sensitivity per value."
      ],
      "metadata": {
        "id": "5QE8eGr5Kmt_"
      }
    },
    {
      "cell_type": "code",
      "source": [
        "skater_frame.describe()"
      ],
      "metadata": {
        "id": "lvHOPA-2rACs"
      },
      "execution_count": null,
      "outputs": []
    },
    {
      "cell_type": "markdown",
      "source": [
        "After adding the 2012 to 2021 dataset, the mean years increase which is expected as adding new player seasons should raise the overall year. \n",
        "\n",
        "The mean value of Goals, assists, and points have gone down just a few decimal points. The standard deviation has also gone down a few decimal points in that section, therefore the new data fits well with minimal sensitivity to new data. \n",
        "\n",
        "The penalty minutes average has fallen 2 whole minutes with new data, suggesting recent players may take less penalty minutes overall.\n",
        "\n",
        "The games played value has increased. Again, this makes sense as players in the 1920s played less games than they do in 2012-2021, therefore the mean number of games played increases. \n",
        "\n",
        "Disregard the +/- to SOG statistics as these are the contemporary statistics that are being ignored. \n",
        "\n",
        "Overall, looking at the summary of the values, the new 2012-2021 data has not greatly effected the attributes of the data beyond add new datapoints. This is a good thing because it means older data can stay consistent with future analysis. This does suggest that not many players are pushing the game forward in terms of changing what is expected in these features."
      ],
      "metadata": {
        "id": "645SsboCJTcQ"
      }
    },
    {
      "cell_type": "code",
      "source": [
        "#Show unique award winners per award\n",
        "unique = []\n",
        "dup = []\n",
        "\n",
        "for award in awards_list:\n",
        "  #grab the winners of the award\n",
        "  award_winners = awards_frame.loc[(awards_frame['award'] == award)]\n",
        "  #determine the total number and unique number of players\n",
        "  total_players = len(award_winners)\n",
        "  unique_players = len(award_winners[\"playerID\"].unique())\n",
        "  #append to lists\n",
        "  unique.append(unique_players)\n",
        "  dup.append(total_players - unique_players)\n",
        "\n",
        "#plotting\n",
        "fig, ax = plt.subplots(figsize=(11, 7))\n",
        "\n",
        "x_pos = np.arange(len(awards_list))\n",
        "width=0.35 # 0.5 to leave no white space\n",
        "bar1 = ax.bar(x_pos - width/2, unique, \n",
        "              color=\"#FDBE5E\", \n",
        "              width=width, label='Unique')\n",
        "bar2 = ax.bar(x_pos + width/2, dup, \n",
        "              color=\"#48C7AA\", \n",
        "              width=width, label='Repeat')\n",
        "\n",
        "ax.set_xticks(x_pos)\n",
        "ax.set_xticklabels(awards_list)\n",
        "\n",
        "\n",
        "ax.set_title('Unique award winners vs Repeat winners')\n",
        "ax.legend()\n",
        "add_label_on_top(bar1)\n",
        "add_label_on_top(bar2)\n",
        "ax.set_ylabel('Number of Players')"
      ],
      "metadata": {
        "id": "v44WaiHhKPd5"
      },
      "execution_count": null,
      "outputs": []
    },
    {
      "cell_type": "markdown",
      "source": [
        "Looking with the new data, the norris trophy became equally likely to be a unique winner versus a repeat winner. All remaining awards increased in unique winners of the award, solidifying the previous conclusion that it is more likely to be a unique winner than repeat for all trophies beyond the norris. \n",
        "\n",
        "Below revists the violin plots with the updated data"
      ],
      "metadata": {
        "id": "YOQlsYxuKx4N"
      }
    },
    {
      "cell_type": "code",
      "source": [
        "violinplot_feature(\"GP\")"
      ],
      "metadata": {
        "id": "WUuto6nLLci5"
      },
      "execution_count": null,
      "outputs": []
    },
    {
      "cell_type": "markdown",
      "source": [
        "The densities within these plots are similar beyond the Lindsay, which is thankfully larger with more data. The mean for all of them has seemed to rise but otherwise stay similar"
      ],
      "metadata": {
        "id": "-oKV0-EIV-DA"
      }
    },
    {
      "cell_type": "code",
      "source": [
        "violinplot_feature(\"G\")"
      ],
      "metadata": {
        "id": "_230lP-XNnnf"
      },
      "execution_count": null,
      "outputs": []
    },
    {
      "cell_type": "markdown",
      "source": [
        "The goals value is similar between the above plot with the lindsay having an almost even density centered around the mean. The Lady Byng also has a density that is a bit larger around the 50 goal line. Otherwise, they are similar."
      ],
      "metadata": {
        "id": "UT10Z9u9Wbz5"
      }
    },
    {
      "cell_type": "code",
      "source": [
        "violinplot_feature(\"A\")"
      ],
      "metadata": {
        "id": "ixrNTP23NoOn"
      },
      "execution_count": null,
      "outputs": []
    },
    {
      "cell_type": "markdown",
      "source": [
        "The Lindsay trophy has an incredibly large density around the mean, evenly distributed above and below unlike the other values. The mean is also much higher for the Lindsay award winner than any other award winner "
      ],
      "metadata": {
        "id": "3HxIqK-1XZI1"
      }
    },
    {
      "cell_type": "code",
      "source": [
        "violinplot_feature(\"Pts\")"
      ],
      "metadata": {
        "id": "zloja2rKNpSr"
      },
      "execution_count": null,
      "outputs": []
    },
    {
      "cell_type": "markdown",
      "source": [
        "Similar to above, the pts per award look like a combination of the previous two plots. This makes sense as pts is goals plus assists"
      ],
      "metadata": {
        "id": "5huX1InZX53E"
      }
    },
    {
      "cell_type": "code",
      "source": [
        "violinplot_feature(\"PIM\")"
      ],
      "metadata": {
        "id": "0WAs9qkNNqPM"
      },
      "execution_count": null,
      "outputs": []
    },
    {
      "cell_type": "markdown",
      "source": [
        "In terms of penalty minutes, the Lady Byng award winners still reign supreme in having the lowest penalty minutes. The remaining is quite similar, the Lindsay dataset being expanded shows it's winners having a low total value in penalty minutes.\n",
        "\n",
        "Now that the data has been expanded, below is the Ted Lindsay analysis"
      ],
      "metadata": {
        "id": "G4KEeOFpY-zx"
      }
    },
    {
      "cell_type": "code",
      "source": [
        "#Team Distribution\n",
        "team = []\n",
        "number = []\n",
        "\n",
        "for index, row in awards_frame.iterrows():\n",
        "  if row['award'] == \"Lindsay\":\n",
        "    player = skater_frame.loc[(skater_frame['playerID'] == row['playerID']) & (skater_frame['year'] == row['year'])]\n",
        "    if player.empty:\n",
        "      continue\n",
        "    if player[\"tmID\"].values[0] not in team:\n",
        "      team.append(player[\"tmID\"].values[0])\n",
        "      number.append(1)\n",
        "    else:\n",
        "      number[team.index(player[\"tmID\"].values[0])] += 1\n",
        "\n",
        "fig, ax = plt.subplots(figsize=(11, 7))\n",
        "\n",
        "ax.bar(team, number)\n",
        "plt.title(\"Ted Lindsay Award Winners per Team\")\n",
        "plt.ylabel('Award Winner #')\n",
        "plt.xlabel(\"Team\")"
      ],
      "metadata": {
        "id": "WNlXF9KmcAjH"
      },
      "execution_count": null,
      "outputs": []
    },
    {
      "cell_type": "code",
      "source": [
        "feature = [\"GP\", \"G\", \"A\", \"Pts\", \"PIM\"]\n",
        "superior = [0, 0, 0, 0, 0]\n",
        "inferior = [0, 0, 0, 0, 0]\n",
        "\n",
        "for index, row in awards_frame.iterrows():\n",
        "  features = [\"GP\", \"G\", \"A\", \"Pts\", \"PIM\"]\n",
        "  #negative statistics: losses, overtime losses, and goals against should be counted differently\n",
        "  if row['award'] == \"Lindsay\":\n",
        "    #grab the player\n",
        "    player = skater_frame.loc[(skater_frame['playerID'] == row['playerID']) & (skater_frame['year'] == row['year'])]\n",
        "    if player.empty:\n",
        "      continue\n",
        "    #for each player in that year\n",
        "    for index2, row2 in pd.DataFrame(skater_frame.loc[skater_frame['year'] == player['year'].values[0]]).iterrows():\n",
        "      #for each feature\n",
        "      for item in features:\n",
        "        #if the winner has a smaller value than some players\n",
        "        if player[item].values[0] < row2[item]:\n",
        "          #increment inferior and remove the item from the list of lessthan\n",
        "          inferior[feature.index(item)] += 1\n",
        "          features.remove(item)\n",
        "    #for each remaining value, increment superior\n",
        "    for item in features:  \n",
        "      superior[feature.index(item)] += 1\n",
        "\n",
        "data = {\"feature\": feature, \"superior\": superior, \"inferior\": inferior}\n",
        "awards = pd.DataFrame(data)\n",
        "\n",
        "#plotting\n",
        "plt.figure()\n",
        "fig, ax = plt.subplots(figsize=(11, 7))\n",
        "\n",
        "x_pos = np.arange(len(feature))\n",
        "width=0.35 # 0.5 to leave no white space\n",
        "bar1 = ax.bar(x_pos - width/2, superior, \n",
        "              color=\"#1381C0\", \n",
        "              width=width, label='superior')\n",
        "bar2 = ax.bar(x_pos + width/2, inferior, \n",
        "              color=\"#EC55B9\", \n",
        "              width=width, label='inferior')\n",
        "\n",
        "ax.set_xticks(x_pos)\n",
        "ax.set_xticklabels(feature)\n",
        "\n",
        "ax.set_title('Feature Superiority by Lindsay Award Winner')\n",
        "ax.legend()\n",
        "plt.ylabel('Number of Players')\n",
        "add_label_on_top(bar1)\n",
        "add_label_on_top(bar2)\n",
        "plt.show()"
      ],
      "metadata": {
        "id": "3wUNO7OHdbsg"
      },
      "execution_count": null,
      "outputs": []
    },
    {
      "cell_type": "markdown",
      "source": [
        "For the Lindsay award, the most significant feature that signifies the Lindsay is Points followed by assists. Like the Norris trophy winners, there are more Lindsay award winners that are superior in Points than any other player that season. This shows that a high amount of points can point to the Lindsay award winner. \n",
        "\n",
        "\n",
        "Overall, in terms of data sensitivity, the shape of most violin plots and unique players is consistent. The number of unique players has gone up, which may suggest an expansion of player quality in recent years. "
      ],
      "metadata": {
        "id": "dEGocvPjdw0a"
      }
    },
    {
      "cell_type": "markdown",
      "source": [
        "### **Conclusion**\n",
        "\n",
        "Overall, it appears that most awards can be signaled by some feature in our dataset. Most notably:\n",
        "*   The Lady Byng Trophy winners correlate directly with a low amount of penalty minutes in a large amount of games.\n",
        "*   The Norris Trophy winners more often lead defenseman in assists and points \n",
        "*   The Ted Lindsay trophy winners, after adding the 2012-2022 data, more often lead other skaters in points.\n",
        "\n",
        "The other awards do have leaders in certain features, however, there are no features in which most award winners are better than other players. This either highlights a lack of important features in the dataset that does signal who should be the award winner or the human element of voting for the award winner incorporates elements that cannot be seen in data.\n",
        "\n",
        "The number of unique winners of an award is large for the Lady Byng and Selke trophy but remains even compared to repeat winners for the Vezina Trophy. The Norris trophy has more repeat winners than unique winners. I am unsure of what causes the Norris trophy winners to work this way.\n",
        "\n",
        "Similarly, with the violin plots, we can see how the more defensive minded awards of the Norris and the Selke each have lower densities/ranges for goals compared to the neutral awards of the Ted Lindsay and Lady Byng. \n",
        "\n",
        "#### **Data Sensitivity:**\n",
        "In terms of data sensitivity, adding 2012-2021 data does not significantly change the underlying attributes of the data. The mean and standard deviation of each feature only changes by a few decimal points. On a award by award analysis, the Ted Lindsay award gives more information with it's increased datapoints. The number of unique winners for each award went up, which could mean newer players are standing out for the awards or voters could be selecting new winners because they are unique. \n",
        "\n",
        "#### **Future work:**\n",
        "I would like to apply some machine learning methods to see how accurately the data can be used to predict who will win each award per season. I would like to better analyze the negative features like losses, ties, or penalties. I have only looked at general shape of these features but there could be better signals in the number of losses. As well, I would want to find a way to survey voters for this award to analyze their thought process on how they select their award winners. This could be compared with the features and improve awards predictions. Unfortunately, this would probably not be possible, but it would help the analysis by involving the human element of the voter.\n",
        "\n",
        "\n",
        "#### **What I have learned:**\n",
        "In the process of this project, I have learned a few things. \n",
        "*  First and foremost, this project has solidified my python skills beyond my personal projects and any homeworks. Utilizing pandas between multiple dataframes has been useful and interesting.\n",
        "*  I learned the importance of choosing a good color pallete for visualizations. I am not colorblind but I sometimes struggle discerning the colors in some visualizations, so focusing on how to make my analysis accessible was enlightening. \n",
        "*  Data cleanup is very important, the amount of NaN errors I ran into was super annoying but they only came because I neglected to clean my data well at first\n",
        "* I learned better processes for understanding and combining datasets of similar purpose with different feature values. The Moneypuck.com data has most of the values as the hockey database data, however, combining them required more detail than I expected.\n",
        "*  Not all features are about having the most of that feature; a player does not want the most losses, ties, nor penalty minutes. Intuitively, you would just compare players that have the least number of the bad features but the noise of players that have only played 1 game and received no losses or penalties makes that impossible for good output. I still do not know what is best for analyzing performance in those statistics, but, having the chance to think through it has been insightful. \n",
        "*  Lastly, this project helped me learn how to select appropriate visualizations for the data I wanted to present. \n"
      ],
      "metadata": {
        "id": "kUUz0dfUP6fY"
      }
    }
  ]
}